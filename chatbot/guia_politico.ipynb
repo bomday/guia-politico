{
  "nbformat": 4,
  "nbformat_minor": 0,
  "metadata": {
    "colab": {
      "provenance": [],
      "collapsed_sections": [
        "2CoP97aEIENk",
        "PkvlYz7AQ2Di",
        "PjWdqqtNRAUw",
        "V7f9NrBqbMLY",
        "IMmeB4M3RLKz"
      ]
    },
    "kernelspec": {
      "name": "python3",
      "display_name": "Python 3"
    },
    "language_info": {
      "name": "python"
    }
  },
  "cells": [
    {
      "cell_type": "markdown",
      "source": [
        "Site para entender a chamada de informações pela API de Dados Abertos da Câmara: https://www.gustavofurtado.com/DadosAbertosBrasil/camara.html"
      ],
      "metadata": {
        "id": "fCbgX7958gEE"
      }
    },
    {
      "cell_type": "markdown",
      "source": [
        "### Importações\n"
      ],
      "metadata": {
        "id": "2CoP97aEIENk"
      }
    },
    {
      "cell_type": "code",
      "source": [
        "!pip install -q -U google-generativeai"
      ],
      "metadata": {
        "id": "pO7QVdzCfuws"
      },
      "execution_count": 1,
      "outputs": []
    },
    {
      "cell_type": "code",
      "source": [
        "!pip install -q -U DadosAbertosBrasil"
      ],
      "metadata": {
        "colab": {
          "base_uri": "https://localhost:8080/",
          "height": 0
        },
        "id": "5-Ch6auHIFhW",
        "outputId": "5a77a87e-8159-4688-a345-c29eea70b796"
      },
      "execution_count": 2,
      "outputs": [
        {
          "output_type": "stream",
          "name": "stdout",
          "text": [
            "\u001b[?25l     \u001b[90m━━━━━━━━━━━━━━━━━━━━━━━━━━━━━━━━━━━━━━━━\u001b[0m \u001b[32m0.0/74.3 kB\u001b[0m \u001b[31m?\u001b[0m eta \u001b[36m-:--:--\u001b[0m\r\u001b[2K     \u001b[91m━━━━━━━━━━━━━━━━\u001b[0m\u001b[91m╸\u001b[0m\u001b[90m━━━━━━━━━━━━━━━━━━━━━━━\u001b[0m \u001b[32m30.7/74.3 kB\u001b[0m \u001b[31m751.4 kB/s\u001b[0m eta \u001b[36m0:00:01\u001b[0m\r\u001b[2K     \u001b[91m━━━━━━━━━━━━━━━━━━━━━━━━━━━━━━━━━━━━━━\u001b[0m\u001b[91m╸\u001b[0m\u001b[90m━\u001b[0m \u001b[32m71.7/74.3 kB\u001b[0m \u001b[31m1.2 MB/s\u001b[0m eta \u001b[36m0:00:01\u001b[0m\r\u001b[2K     \u001b[91m━━━━━━━━━━━━━━━━━━━━━━━━━━━━━━━━━━━━━━\u001b[0m\u001b[91m╸\u001b[0m\u001b[90m━\u001b[0m \u001b[32m71.7/74.3 kB\u001b[0m \u001b[31m1.2 MB/s\u001b[0m eta \u001b[36m0:00:01\u001b[0m\r\u001b[2K     \u001b[90m━━━━━━━━━━━━━━━━━━━━━━━━━━━━━━━━━━━━━━━━\u001b[0m \u001b[32m74.3/74.3 kB\u001b[0m \u001b[31m479.7 kB/s\u001b[0m eta \u001b[36m0:00:00\u001b[0m\n",
            "\u001b[?25h"
          ]
        }
      ]
    },
    {
      "cell_type": "code",
      "source": [
        "import google.generativeai as genai\n",
        "import requests\n",
        "import pandas as pd\n",
        "from DadosAbertosBrasil import camara"
      ],
      "metadata": {
        "id": "N3ZJQYxPQyjj"
      },
      "execution_count": 3,
      "outputs": []
    },
    {
      "cell_type": "markdown",
      "source": [
        "### Inicializações"
      ],
      "metadata": {
        "id": "PkvlYz7AQ2Di"
      }
    },
    {
      "cell_type": "code",
      "source": [
        "# Substitua pelas suas credenciais\n",
        "GOOGLE_API_KEY=\"SUA_API_KEY\"\n",
        "genai.configure(api_key=GOOGLE_API_KEY)\n",
        "\n",
        "# Parâmetros gerais\n",
        "generation_config = {\n",
        "    \"candidate_count\": 1, # Candidatos são as possibilidades de respostas\n",
        "    \"temperature\": 0.2, # Quanto mais próximo de 1, mais criativas serão as respostas (mais variação)\n",
        "    #\"max_output_tokens\": 150 # Manterá as respostas do chat mais concisas\n",
        "}\n",
        "\n",
        "# Parâmetros de segurança\n",
        "safety_settings = {\n",
        "    \"HARASSMENT\": \"BLOCK_LOW_AND_ABOVE\",\n",
        "    \"HATE\": \"BLOCK_LOW_AND_ABOVE\",\n",
        "    \"SEXUAL\": \"BLOCK_LOW_AND_ABOVE\",\n",
        "    \"DANGEROUS\": \"BLOCK_LOW_AND_ABOVE\"\n",
        "}\n",
        "\n",
        "# Modelo\n",
        "model = genai.GenerativeModel(model_name = \"gemini-1.0-pro\",\n",
        "                              generation_config=generation_config,\n",
        "                              safety_settings=safety_settings)\n",
        "\n",
        "# Inicializando o histórico do chat\n",
        "chat = model.start_chat(history=[])\n",
        "\n",
        "# Última mensagem padrão do Bot\n",
        "last_bot_message = None\n",
        "\n",
        "# Variáveis Gerais\n",
        "duvidas = False"
      ],
      "metadata": {
        "id": "HlqLYX8yQ6rW"
      },
      "execution_count": 16,
      "outputs": []
    },
    {
      "cell_type": "markdown",
      "source": [
        "### Funções Mensagens Padrão"
      ],
      "metadata": {
        "id": "PjWdqqtNRAUw"
      }
    },
    {
      "cell_type": "code",
      "source": [
        "# Funções\n",
        "\n",
        "# Estrutura Modelo de Resposta Padrão\n",
        "def response():\n",
        "  pass # colocar aqui dps\n",
        "\n",
        "# Mensagem Padrão Menu\n",
        "def opcoes_menu():\n",
        "  print(\"\"\"\n",
        "  Digite um dos números das opções abaixo para saber mais:\\n\n",
        "  1. Blocos Partidários e Partidos\\n\n",
        "  2. Deputados\\n\n",
        "  3. Comissões e Órgãos\\n\n",
        "  4. Propostas Parlamentares\\n\n",
        "  5. Dúvidas Gerais\\n\n",
        "  \"\"\")\n",
        "\n",
        "  last_bot_message = \"opcoes_menu\" # Informa última mensagem padrão enviada pelo Bot\n",
        "\n",
        "# Mensagem Padrão Blocos Partidários\n",
        "def opcoes_blocos():\n",
        "  print(\"\"\"\n",
        "  Digite um dos números das opções abaixo para saber mais:\\n\n",
        "  1. Lista de Blocos Partidários\\n\n",
        "  2. Lista Partidos\n",
        "  3. Dúvidas Gerais\\n\\n\n",
        "\n",
        "  Para retornar às opções principais digite \"menu\"\n",
        "  \"\"\")\n",
        "\n",
        "  last_bot_message = \"opcoes_blocos\" # Informa última mensagem padrão enviada pelo Bot\n",
        "\n",
        "# Mensagem Padrão Deputados\n",
        "def opcoes_deputados():\n",
        "  print(\"\"\"\n",
        "  Digite um dos números das opções abaixo para saber mais:\\n\n",
        "  1. Lista de Deputados por Estado\\n\n",
        "  2. Informações sobre Deputado Específico\\n\n",
        "  3. Despesas de Deputados por Estado\\n\n",
        "  4. Despesas de Deputado Específico\n",
        "  5. Dúvidas Gerais\\n\\n\n",
        "\n",
        "  Para retornar às opções principais digite \"menu\"\n",
        "  \"\"\")\n",
        "\n",
        "  last_bot_message = \"opcoes_deputados\" # Informa última mensagem padrão enviada pelo Bot\n",
        "\n",
        "# Mensagem Padrão Comissões e Órgãos\n",
        "def opcoes_orgaos():\n",
        "  print(\"\"\"\n",
        "  Digite um dos números das opções abaixo para saber mais:\\n\n",
        "  1. Lista de Comissões e Órgãos\\n\n",
        "  2. Votações em Comissão ou Órgão Específico\\n\n",
        "  3. Eventos previstos em Comissão ou Órgão Específico\\n\n",
        "  4. Dúvidas Gerais\\n\\n\n",
        "\n",
        "  Para retornar às opções principais digite \"menu\"\n",
        "  \"\"\")\n",
        "\n",
        "  last_bot_message = \"opcoes_orgaos\" # Informa última mensagem padrão enviada pelo Bot\n",
        "\n",
        "# Mensagem Padrão Propostas Parlamentares\n",
        "def opcoes_propostas():\n",
        "  print(\"\"\"\n",
        "  Digite um dos números das opções abaixo para saber mais:\\n\n",
        "  1. Lista de Propostas Ativas\\n\n",
        "  2. Informações sobre Proposta Específica\\n\n",
        "  3. Histórico de Tramitação de Proposta Específica\\n\n",
        "  4. Dúvidas Gerais\\n\\n\n",
        "\n",
        "  Para retornar às opções principais digite \"menu\"\n",
        "  \"\"\")\n",
        "\n",
        "  last_bot_message = \"opcoes_propostas\" # Informa última mensagem padrão enviada pelo Bot"
      ],
      "metadata": {
        "id": "dnuSV5DFRD5U"
      },
      "execution_count": 17,
      "outputs": []
    },
    {
      "cell_type": "markdown",
      "source": [
        "### Funções Organizar Tabelas"
      ],
      "metadata": {
        "id": "n9_9AUoPKS2H"
      }
    },
    {
      "cell_type": "code",
      "source": [
        "# Organiza tabela de partidos\n",
        "def tabela_partidos():\n",
        "  dataframe_partidos = camara.lista_partidos()\n",
        "  partidos = dataframe_partidos[['sigla', 'nome']]\n",
        "\n",
        "  lista_situacao_partidos = []\n",
        "  lista_total_posse_partidos = []\n",
        "  lista_total_membros_partidos = []\n",
        "  lista_lideres_partidos = []\n",
        "\n",
        "  for index, row in dataframe_partidos.iterrows():\n",
        "    codigo = row[\"codigo\"]\n",
        "    partido = camara.Partido(codigo)\n",
        "\n",
        "    situacao_partido = partido.situacao\n",
        "    lista_situacao_partidos.append(situacao_partido)\n",
        "\n",
        "    total_posse_partido = partido.total_posse\n",
        "    lista_total_posse_partidos.append(total_posse_partido)\n",
        "\n",
        "    total_membros_partido = partido.total_membros\n",
        "    lista_total_membros_partidos.append(total_membros_partido)\n",
        "\n",
        "    lider_partido = partido.lider['nome']\n",
        "    lista_lideres_partidos.append(lider_partido)\n",
        "\n",
        "  df_info_partidos = pd.DataFrame({\"status\": lista_situacao_partidos, \"lider\": lista_lideres_partidos, \"total posse\": lista_total_posse_partidos, \"total membros\": lista_total_membros_partidos})\n",
        "  partidos = pd.concat([partidos, df_info_partidos], axis=1)\n",
        "  display(partidos)"
      ],
      "metadata": {
        "id": "uPISAvt14Pn7"
      },
      "execution_count": 49,
      "outputs": []
    },
    {
      "cell_type": "code",
      "source": [
        "# Organiza tabela de proposições (ADICIONAR AUTORES)\n",
        "def tabela_proposicoes():\n",
        "  proposicoes2024 = camara.lista_proposicoes(None, None, 2024)\n",
        "  dataframe_proposicoes = proposicoes2024[['codigo', 'tipo', 'ano', 'ementa']]\n",
        "\n",
        "  lista_temas = []\n",
        "\n",
        "  for index, row in dataframe_proposicoes.iterrows():\n",
        "    codigo = row[\"codigo\"]\n",
        "    proposicao = camara.Proposicao(codigo)\n",
        "\n",
        "    lista_tema_proposicoes = proposicao.temas()\n",
        "\n",
        "    temas_str = \"\"\n",
        "    for index, row in lista_tema_proposicoes.iterrows():\n",
        "      tema = row['tema']\n",
        "      temas_str += tema + \", \"\n",
        "\n",
        "    temas_str = temas_str[:-2]\n",
        "    lista_temas.append(temas_str)\n",
        "\n",
        "  df_temas = pd.DataFrame({\"temas\": lista_temas})\n",
        "  proposicoes = pd.concat([dataframe_proposicoes, df_temas], axis=1)\n",
        "\n",
        "  display(proposicoes)"
      ],
      "metadata": {
        "id": "ilzCQ4yDszsr"
      },
      "execution_count": 51,
      "outputs": []
    },
    {
      "cell_type": "markdown",
      "source": [
        "### Funções Opções"
      ],
      "metadata": {
        "id": "V7f9NrBqbMLY"
      }
    },
    {
      "cell_type": "code",
      "source": [
        "# Opção escolhida Menu\n",
        "def num_menu(prompt):\n",
        "  global duvidas\n",
        "\n",
        "  if \"1\" in prompt: # Blocos Partidários e Partidos\n",
        "    opcoes_blocos()\n",
        "  elif \"2\" in prompt: # Deputados\n",
        "    opcoes_deputados()\n",
        "  elif \"3\" in prompt: # Comissões e Órgãos\n",
        "    opcoes_orgaos()\n",
        "  elif \"4\" in prompt: # Propostas Parlamentares\n",
        "    opcoes_propostas()\n",
        "  elif \"5\" in prompt: # Dúvidas Gerais\n",
        "    print(\"\"\"\n",
        "    Digite a sua pergunta. Vai ser um prazer respondê-la!\\n\n",
        "\n",
        "    Para retornar às opções principais digite \"menu\"\n",
        "    \"\"\")\n",
        "    duvidas = True\n",
        "  else:\n",
        "    print(\"Digite o número desejado.\")\n",
        "\n",
        "# Opção escolhida Blocos Partidários\n",
        "def num_blocos(prompt):\n",
        "  global duvidas\n",
        "\n",
        "  if \"1\" in prompt: # Lista de Blocos Partidários\n",
        "    tabela_blocos = camara.lista_blocos()\n",
        "    blocos = tabela_blocos[['nome', 'legislatura']]\n",
        "    display(blocos)\n",
        "  elif \"2\" in prompt: # Lista Partidos\n",
        "    tabela_partidos()\n",
        "  elif \"3\" in prompt:\n",
        "    print(\"\"\"\n",
        "    Digite a sua pergunta. Vai ser um prazer respondê-la!\\n\n",
        "\n",
        "    Para retornar às opções principais digite \"menu\"\n",
        "    \"\"\")\n",
        "    duvidas = True\n",
        "  else:\n",
        "    print(\"Digite o número desejado.\")\n",
        "\n",
        "# Opção escolhida Deputados\n",
        "def num_deputados(prompt):\n",
        "  global duvidas\n",
        "\n",
        "  if \"1\" in prompt: # Lista de Deputados por Estado\n",
        "    estado = input('Digite a sigla do seu estado: ')\n",
        "\n",
        "    try:\n",
        "      lista_deputados = camara.lista_deputados(None, None, estado)\n",
        "      deputados = lista_deputados[['nome', 'partido', 'uf', 'email']]\n",
        "      display(deputados)\n",
        "    except ValueError as e:\n",
        "        print(\"Ocorreu um erro ao gerar a resposta. Tente novamente mais tarde.\")\n",
        "\n",
        "  elif \"2\" in prompt: # Informações sobre Deputado Específico\n",
        "    pass\n",
        "  elif \"3\" in prompt: # Despesas de Deputados por Estado\n",
        "    pass\n",
        "  elif \"4\" in prompt: # Despesas de Deputado Específico\n",
        "    pass\n",
        "  elif \"5\" in prompt: # Dúvidas Gerais\n",
        "    print(\"\"\"\n",
        "    Digite a sua pergunta. Vai ser um prazer respondê-la!\\n\n",
        "\n",
        "    Para retornar às opções principais digite \"menu\"\n",
        "    \"\"\")\n",
        "    duvidas = True\n",
        "  else:\n",
        "    print(\"Digite o número desejado.\")\n",
        "\n",
        "# Opção escolhida Comissões e Órgãos\n",
        "def num_orgaos(prompt):\n",
        "  global duvidas\n",
        "\n",
        "  if \"1\" in prompt:\n",
        "    lista_orgaos = camara.lista_orgaos()\n",
        "    orgaos = lista_orgaos[['nome', 'sigla', 'orgao_tipo']]\n",
        "    display(orgaos)\n",
        "  elif \"2\" in prompt:\n",
        "    pass\n",
        "  elif \"3\" in prompt:\n",
        "    pass\n",
        "  elif \"4\" in prompt:\n",
        "    print(\"\"\"\n",
        "    Digite a sua pergunta. Vai ser um prazer respondê-la!\\n\n",
        "\n",
        "    Para retornar às opções principais digite \"menu\"\n",
        "    \"\"\")\n",
        "  else:\n",
        "    print(\"Digite o número desejado.\")\n",
        "\n",
        "# Opção escolhida Propostas Parlamentares\n",
        "def num_propostas(prompt):\n",
        "  global duvidas\n",
        "\n",
        "  if \"1\" in prompt: # Tabela de proposições\n",
        "    tabela_proposicoes()\n",
        "  elif \"2\" in prompt:\n",
        "    pass\n",
        "  elif \"3\" in prompt:\n",
        "    pass\n",
        "  elif \"4\" in prompt:\n",
        "    print(\"\"\"\n",
        "    Digite a sua pergunta. Vai ser um prazer respondê-la!\\n\n",
        "\n",
        "    Para retornar às opções principais digite \"menu\"\n",
        "    \"\"\")\n",
        "    duvidas = True\n",
        "  else:\n",
        "    print(\"Digite o número desejado.\")"
      ],
      "metadata": {
        "id": "ywxMI0HhbZBr"
      },
      "execution_count": 8,
      "outputs": []
    },
    {
      "cell_type": "markdown",
      "source": [
        "### Main"
      ],
      "metadata": {
        "id": "IMmeB4M3RLKz"
      }
    },
    {
      "cell_type": "markdown",
      "source": [
        "**O que o usuário pode conferir:**\n",
        "1. Lista de blocos partidários na atual legislação\n",
        "2. Listagem e busca de deputados (pergunta se quer burcar especifico ou quer ver deputados do ESTADO)\n",
        "- Se quiser especifico pede nome do deputado e fala se está em ação ou não\n",
        "- Apresenta foto e informações gerais sobre o deputado\n",
        "3. Despesas com o exercício parlamentar do deputado específico\n",
        "4. Informações sobre comissões e órgãos da Câmara e seus Líderes\n",
        "5. Informações detalhadas sobre votações em órgão específico da Câmara\n",
        "6. Eventos para ocorrer em órgão específico da Câmara\n",
        "7. Lista de proposições na Câmara e informações específicas de uma proposição\n",
        "8. Histórico de passos da tramitação de uma proposta\n",
        "9. Tipos de temas existentes e tipos de proposições existentes"
      ],
      "metadata": {
        "id": "Nrn7VA0DYs1T"
      }
    },
    {
      "cell_type": "code",
      "execution_count": null,
      "metadata": {
        "id": "fy5S1q-udepX"
      },
      "outputs": [],
      "source": [
        "# Estabelecendo recebimento de prompt\n",
        "opcoes_menu()\n",
        "prompt = input(\"Faça sua pergunta: \")\n",
        "\n",
        "# Enquanto o usuário não digitar \"fim\", sistema prossegue recebendo prompts\n",
        "while prompt != \"fim\":\n",
        "\n",
        "  if not duvidas:\n",
        "    if \"menu\" in prompt:\n",
        "      opcoes_menu()\n",
        "    elif last_bot_message == \"opcoes_menu\":\n",
        "      num_menu(prompt)\n",
        "    elif last_bot_message == \"opcoes_blocos\":\n",
        "      num_blocos(prompt)\n",
        "    elif last_bot_message == \"opcoes_deputados\":\n",
        "      num_deputados(prompt)\n",
        "    elif last_bot_message == \"opcoes_orgaos\":\n",
        "      num_orgaos(prompt)\n",
        "    elif last_bot_message == \"opcoes_propostas\":\n",
        "      num_propostas(prompt)\n",
        "\n",
        "    if not duvidas:\n",
        "      prompt = input(\"Faça sua pergunta: \")\n",
        "  else:\n",
        "    prompt = input(\"Faça sua pergunta: \")\n",
        "    duvidas = False\n",
        "\n",
        "    if \"menu\" not in prompt:\n",
        "      try:\n",
        "        response = chat.send_message(prompt)\n",
        "        print(\"\\nGuia Político: \", response.text, \"\\n\")\n",
        "      except ValueError as e:\n",
        "        print(\"Ocorreu um erro ao gerar a resposta. Tente novamente mais tarde.\")\n",
        "        # Opcional: registrar o erro para análise posterior\n",
        "        print(f\"Erro: {e}\")"
      ]
    }
  ]
}